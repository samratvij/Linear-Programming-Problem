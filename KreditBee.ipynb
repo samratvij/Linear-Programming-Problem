{
 "cells": [
  {
   "cell_type": "markdown",
   "metadata": {},
   "source": [
    "# Data Analyst Assignment\n",
    "> KreditBee - Collection Analytics"
   ]
  },
  {
   "cell_type": "markdown",
   "metadata": {},
   "source": [
    "- The problem is a optimization problem to allot almost equal number of customers to all agents based on language prefrences.\n",
    "- To solve it, pyomo package is used for defining variables, objective and constraints. CBC solver is employed (using neon server) to get the optimal solution."
   ]
  },
  {
   "cell_type": "code",
   "execution_count": 1,
   "metadata": {},
   "outputs": [],
   "source": [
    "import time\n",
    "notebook_start_time = time.time()"
   ]
  },
  {
   "cell_type": "code",
   "execution_count": 2,
   "metadata": {},
   "outputs": [],
   "source": [
    "#importing required packages\n",
    "import pandas as pd\n",
    "import numpy as np\n",
    "import copy\n",
    "from pyomo.environ import *\n",
    "from pyomo.opt import SolverFactory\n",
    "import itertools"
   ]
  },
  {
   "cell_type": "code",
   "execution_count": 3,
   "metadata": {},
   "outputs": [],
   "source": [
    "#Reading the dataset\n",
    "xls = pd.ExcelFile('Task_raw_data.xlsx')\n",
    "agent = pd.read_excel(xls, 'Agent_details')\n",
    "account = pd.read_excel(xls, 'Raw_Data')"
   ]
  },
  {
   "cell_type": "code",
   "execution_count": 4,
   "metadata": {},
   "outputs": [],
   "source": [
    "xls2 = pd.ExcelFile('State & Language Details.xlsx')\n",
    "lang_account = pd.read_excel(xls2, 'Sheet1')"
   ]
  },
  {
   "cell_type": "code",
   "execution_count": 5,
   "metadata": {},
   "outputs": [
    {
     "data": {
      "text/html": [
       "<div>\n",
       "<style scoped>\n",
       "    .dataframe tbody tr th:only-of-type {\n",
       "        vertical-align: middle;\n",
       "    }\n",
       "\n",
       "    .dataframe tbody tr th {\n",
       "        vertical-align: top;\n",
       "    }\n",
       "\n",
       "    .dataframe thead th {\n",
       "        text-align: right;\n",
       "    }\n",
       "</style>\n",
       "<table border=\"1\" class=\"dataframe\">\n",
       "  <thead>\n",
       "    <tr style=\"text-align: right;\">\n",
       "      <th></th>\n",
       "      <th>Employee_Name</th>\n",
       "      <th>Employee ID</th>\n",
       "      <th>Bucket</th>\n",
       "      <th>Product</th>\n",
       "      <th>Source</th>\n",
       "      <th>Hindi</th>\n",
       "      <th>Telugu</th>\n",
       "      <th>Kannada</th>\n",
       "      <th>Tamil</th>\n",
       "    </tr>\n",
       "  </thead>\n",
       "  <tbody>\n",
       "    <tr>\n",
       "      <th>0</th>\n",
       "      <td>A</td>\n",
       "      <td>A11</td>\n",
       "      <td>NaN</td>\n",
       "      <td>MLA-15K</td>\n",
       "      <td>KB</td>\n",
       "      <td>1</td>\n",
       "      <td>0</td>\n",
       "      <td>1</td>\n",
       "      <td>0</td>\n",
       "    </tr>\n",
       "    <tr>\n",
       "      <th>1</th>\n",
       "      <td>B</td>\n",
       "      <td>B11</td>\n",
       "      <td>NaN</td>\n",
       "      <td>MLA-15K</td>\n",
       "      <td>KB</td>\n",
       "      <td>1</td>\n",
       "      <td>1</td>\n",
       "      <td>0</td>\n",
       "      <td>0</td>\n",
       "    </tr>\n",
       "    <tr>\n",
       "      <th>2</th>\n",
       "      <td>C</td>\n",
       "      <td>C11</td>\n",
       "      <td>NaN</td>\n",
       "      <td>MLA-15K</td>\n",
       "      <td>KB</td>\n",
       "      <td>0</td>\n",
       "      <td>1</td>\n",
       "      <td>1</td>\n",
       "      <td>1</td>\n",
       "    </tr>\n",
       "    <tr>\n",
       "      <th>3</th>\n",
       "      <td>d</td>\n",
       "      <td>D11</td>\n",
       "      <td>NaN</td>\n",
       "      <td>MLA-15K</td>\n",
       "      <td>KB</td>\n",
       "      <td>1</td>\n",
       "      <td>1</td>\n",
       "      <td>1</td>\n",
       "      <td>0</td>\n",
       "    </tr>\n",
       "    <tr>\n",
       "      <th>4</th>\n",
       "      <td>e</td>\n",
       "      <td>E11</td>\n",
       "      <td>NaN</td>\n",
       "      <td>MLA-15K</td>\n",
       "      <td>KB</td>\n",
       "      <td>1</td>\n",
       "      <td>0</td>\n",
       "      <td>0</td>\n",
       "      <td>0</td>\n",
       "    </tr>\n",
       "  </tbody>\n",
       "</table>\n",
       "</div>"
      ],
      "text/plain": [
       "  Employee_Name Employee ID  Bucket  Product Source  Hindi  Telugu  Kannada  \\\n",
       "0             A         A11     NaN  MLA-15K     KB      1       0        1   \n",
       "1             B         B11     NaN  MLA-15K     KB      1       1        0   \n",
       "2             C         C11     NaN  MLA-15K     KB      0       1        1   \n",
       "3             d         D11     NaN  MLA-15K     KB      1       1        1   \n",
       "4             e         E11     NaN  MLA-15K     KB      1       0        0   \n",
       "\n",
       "   Tamil  \n",
       "0      0  \n",
       "1      0  \n",
       "2      1  \n",
       "3      0  \n",
       "4      0  "
      ]
     },
     "execution_count": 5,
     "metadata": {},
     "output_type": "execute_result"
    }
   ],
   "source": [
    "agent.head()"
   ]
  },
  {
   "cell_type": "code",
   "execution_count": 6,
   "metadata": {},
   "outputs": [
    {
     "name": "stdout",
     "output_type": "stream",
     "text": [
      "<class 'pandas.core.frame.DataFrame'>\n",
      "RangeIndex: 22 entries, 0 to 21\n",
      "Data columns (total 9 columns):\n",
      "Employee_Name    22 non-null object\n",
      "Employee ID      22 non-null object\n",
      "Bucket           0 non-null float64\n",
      "Product          22 non-null object\n",
      "Source           22 non-null object\n",
      "Hindi            22 non-null int64\n",
      "Telugu           22 non-null int64\n",
      "Kannada          22 non-null int64\n",
      "Tamil            22 non-null int64\n",
      "dtypes: float64(1), int64(4), object(4)\n",
      "memory usage: 1.7+ KB\n"
     ]
    }
   ],
   "source": [
    "agent.info()"
   ]
  },
  {
   "cell_type": "code",
   "execution_count": 7,
   "metadata": {},
   "outputs": [
    {
     "data": {
      "text/html": [
       "<div>\n",
       "<style scoped>\n",
       "    .dataframe tbody tr th:only-of-type {\n",
       "        vertical-align: middle;\n",
       "    }\n",
       "\n",
       "    .dataframe tbody tr th {\n",
       "        vertical-align: top;\n",
       "    }\n",
       "\n",
       "    .dataframe thead th {\n",
       "        text-align: right;\n",
       "    }\n",
       "</style>\n",
       "<table border=\"1\" class=\"dataframe\">\n",
       "  <thead>\n",
       "    <tr style=\"text-align: right;\">\n",
       "      <th></th>\n",
       "      <th>Date</th>\n",
       "      <th>loanid</th>\n",
       "      <th>productName</th>\n",
       "      <th>age</th>\n",
       "      <th>city</th>\n",
       "      <th>state</th>\n",
       "      <th>cibil_score</th>\n",
       "      <th>Principal_due</th>\n",
       "      <th>Days_past_due</th>\n",
       "      <th>Source</th>\n",
       "    </tr>\n",
       "  </thead>\n",
       "  <tbody>\n",
       "    <tr>\n",
       "      <th>0</th>\n",
       "      <td>2020-02-17</td>\n",
       "      <td>7553357</td>\n",
       "      <td>MLA-10K</td>\n",
       "      <td>33</td>\n",
       "      <td>Hyderabad</td>\n",
       "      <td>TELANGANA</td>\n",
       "      <td>589</td>\n",
       "      <td>4000</td>\n",
       "      <td>11</td>\n",
       "      <td>KB</td>\n",
       "    </tr>\n",
       "    <tr>\n",
       "      <th>1</th>\n",
       "      <td>2020-02-17</td>\n",
       "      <td>7587644</td>\n",
       "      <td>MLA-10K</td>\n",
       "      <td>33</td>\n",
       "      <td>Hyderabad</td>\n",
       "      <td>TELANGANA</td>\n",
       "      <td>628</td>\n",
       "      <td>4000</td>\n",
       "      <td>12</td>\n",
       "      <td>KB</td>\n",
       "    </tr>\n",
       "    <tr>\n",
       "      <th>2</th>\n",
       "      <td>2020-02-17</td>\n",
       "      <td>7651954</td>\n",
       "      <td>MLA-10K</td>\n",
       "      <td>25</td>\n",
       "      <td>Prakasam</td>\n",
       "      <td>ANDHRA PRADESH</td>\n",
       "      <td>628</td>\n",
       "      <td>4000</td>\n",
       "      <td>14</td>\n",
       "      <td>KB</td>\n",
       "    </tr>\n",
       "    <tr>\n",
       "      <th>3</th>\n",
       "      <td>2020-02-17</td>\n",
       "      <td>7671471</td>\n",
       "      <td>MLA-10K</td>\n",
       "      <td>23</td>\n",
       "      <td>Bengaluru</td>\n",
       "      <td>KARNATAKA</td>\n",
       "      <td>628</td>\n",
       "      <td>4000</td>\n",
       "      <td>8</td>\n",
       "      <td>KB</td>\n",
       "    </tr>\n",
       "    <tr>\n",
       "      <th>4</th>\n",
       "      <td>2020-02-17</td>\n",
       "      <td>7728829</td>\n",
       "      <td>MLA-10K</td>\n",
       "      <td>27</td>\n",
       "      <td>Hyderabad</td>\n",
       "      <td>TELANGANA</td>\n",
       "      <td>628</td>\n",
       "      <td>4000</td>\n",
       "      <td>8</td>\n",
       "      <td>KB</td>\n",
       "    </tr>\n",
       "  </tbody>\n",
       "</table>\n",
       "</div>"
      ],
      "text/plain": [
       "        Date   loanid productName  age       city           state  \\\n",
       "0 2020-02-17  7553357     MLA-10K   33  Hyderabad       TELANGANA   \n",
       "1 2020-02-17  7587644     MLA-10K   33  Hyderabad       TELANGANA   \n",
       "2 2020-02-17  7651954     MLA-10K   25   Prakasam  ANDHRA PRADESH   \n",
       "3 2020-02-17  7671471     MLA-10K   23  Bengaluru       KARNATAKA   \n",
       "4 2020-02-17  7728829     MLA-10K   27  Hyderabad       TELANGANA   \n",
       "\n",
       "   cibil_score  Principal_due  Days_past_due Source  \n",
       "0          589           4000             11     KB  \n",
       "1          628           4000             12     KB  \n",
       "2          628           4000             14     KB  \n",
       "3          628           4000              8     KB  \n",
       "4          628           4000              8     KB  "
      ]
     },
     "execution_count": 7,
     "metadata": {},
     "output_type": "execute_result"
    }
   ],
   "source": [
    "account.head()"
   ]
  },
  {
   "cell_type": "code",
   "execution_count": 8,
   "metadata": {},
   "outputs": [
    {
     "name": "stdout",
     "output_type": "stream",
     "text": [
      "<class 'pandas.core.frame.DataFrame'>\n",
      "RangeIndex: 2052 entries, 0 to 2051\n",
      "Data columns (total 10 columns):\n",
      "Date             2052 non-null datetime64[ns]\n",
      "loanid           2052 non-null int64\n",
      "productName      2052 non-null object\n",
      "age              2052 non-null int64\n",
      "city             2052 non-null object\n",
      "state            2052 non-null object\n",
      "cibil_score      2052 non-null int64\n",
      "Principal_due    2052 non-null int64\n",
      "Days_past_due    2052 non-null int64\n",
      "Source           2052 non-null object\n",
      "dtypes: datetime64[ns](1), int64(5), object(4)\n",
      "memory usage: 160.4+ KB\n"
     ]
    }
   ],
   "source": [
    "account.info()"
   ]
  },
  {
   "cell_type": "code",
   "execution_count": 9,
   "metadata": {},
   "outputs": [],
   "source": [
    "#Defining function for bucketing days_past_due\n",
    "def bucket(x):\n",
    "    if x <8:\n",
    "        return '0-7'\n",
    "    elif x <16:\n",
    "        return '8-15'\n",
    "    elif x <31:\n",
    "        return '16-30'\n",
    "    elif x <61:\n",
    "        return '31-60'\n",
    "    elif x >60:\n",
    "        return '60+'\n",
    "    else: return 'Other'"
   ]
  },
  {
   "cell_type": "code",
   "execution_count": 10,
   "metadata": {},
   "outputs": [],
   "source": [
    "#Adding bucket column based on Days_past_due\n",
    "account['bucket'] = account['Days_past_due'].apply(bucket)"
   ]
  },
  {
   "cell_type": "code",
   "execution_count": 11,
   "metadata": {},
   "outputs": [
    {
     "data": {
      "text/plain": [
       "bucket\n",
       "0-7      316\n",
       "16-30    528\n",
       "31-60    730\n",
       "8-15     478\n",
       "dtype: int64"
      ]
     },
     "execution_count": 11,
     "metadata": {},
     "output_type": "execute_result"
    }
   ],
   "source": [
    "account.groupby(['bucket']).size()"
   ]
  },
  {
   "cell_type": "code",
   "execution_count": 12,
   "metadata": {},
   "outputs": [],
   "source": [
    "#Adding language of customers to account table using lang_account reference table\n",
    "account = account.merge(lang_account[['Language','State']], left_on = 'state', right_on = 'State').drop(['State'], axis =1)"
   ]
  },
  {
   "cell_type": "code",
   "execution_count": 13,
   "metadata": {},
   "outputs": [
    {
     "data": {
      "text/plain": [
       "Language\n",
       "Hindi        1235\n",
       "Kannada       200\n",
       "Malayalam       8\n",
       "Tamil         111\n",
       "Telugu        498\n",
       "dtype: int64"
      ]
     },
     "execution_count": 13,
     "metadata": {},
     "output_type": "execute_result"
    }
   ],
   "source": [
    "account.groupby(['Language']).size()"
   ]
  },
  {
   "cell_type": "code",
   "execution_count": 14,
   "metadata": {},
   "outputs": [],
   "source": [
    "#Changing language of Malayalam customers to Tamil since we don't have any Malayalam speaking agents\n",
    "account.loc[account['Language'] == 'Malayalam', 'Language'] = 'Tamil'"
   ]
  },
  {
   "cell_type": "code",
   "execution_count": 15,
   "metadata": {},
   "outputs": [
    {
     "data": {
      "text/plain": [
       "Language\n",
       "Hindi      1235\n",
       "Kannada     200\n",
       "Tamil       119\n",
       "Telugu      498\n",
       "dtype: int64"
      ]
     },
     "execution_count": 15,
     "metadata": {},
     "output_type": "execute_result"
    }
   ],
   "source": [
    "account.groupby(['Language']).size()"
   ]
  },
  {
   "cell_type": "code",
   "execution_count": 16,
   "metadata": {},
   "outputs": [
    {
     "data": {
      "text/html": [
       "<div>\n",
       "<style scoped>\n",
       "    .dataframe tbody tr th:only-of-type {\n",
       "        vertical-align: middle;\n",
       "    }\n",
       "\n",
       "    .dataframe tbody tr th {\n",
       "        vertical-align: top;\n",
       "    }\n",
       "\n",
       "    .dataframe thead th {\n",
       "        text-align: right;\n",
       "    }\n",
       "</style>\n",
       "<table border=\"1\" class=\"dataframe\">\n",
       "  <thead>\n",
       "    <tr style=\"text-align: right;\">\n",
       "      <th></th>\n",
       "      <th>Date</th>\n",
       "      <th>loanid</th>\n",
       "      <th>productName</th>\n",
       "      <th>age</th>\n",
       "      <th>city</th>\n",
       "      <th>state</th>\n",
       "      <th>cibil_score</th>\n",
       "      <th>Principal_due</th>\n",
       "      <th>Days_past_due</th>\n",
       "      <th>Source</th>\n",
       "      <th>bucket</th>\n",
       "      <th>Language</th>\n",
       "      <th>Language_Hindi</th>\n",
       "      <th>Language_Kannada</th>\n",
       "      <th>Language_Tamil</th>\n",
       "      <th>Language_Telugu</th>\n",
       "    </tr>\n",
       "  </thead>\n",
       "  <tbody>\n",
       "    <tr>\n",
       "      <th>0</th>\n",
       "      <td>2020-02-17</td>\n",
       "      <td>7553357</td>\n",
       "      <td>MLA-10K</td>\n",
       "      <td>33</td>\n",
       "      <td>Hyderabad</td>\n",
       "      <td>TELANGANA</td>\n",
       "      <td>589</td>\n",
       "      <td>4000</td>\n",
       "      <td>11</td>\n",
       "      <td>KB</td>\n",
       "      <td>8-15</td>\n",
       "      <td>Telugu</td>\n",
       "      <td>0</td>\n",
       "      <td>0</td>\n",
       "      <td>0</td>\n",
       "      <td>1</td>\n",
       "    </tr>\n",
       "    <tr>\n",
       "      <th>1</th>\n",
       "      <td>2020-02-17</td>\n",
       "      <td>7587644</td>\n",
       "      <td>MLA-10K</td>\n",
       "      <td>33</td>\n",
       "      <td>Hyderabad</td>\n",
       "      <td>TELANGANA</td>\n",
       "      <td>628</td>\n",
       "      <td>4000</td>\n",
       "      <td>12</td>\n",
       "      <td>KB</td>\n",
       "      <td>8-15</td>\n",
       "      <td>Telugu</td>\n",
       "      <td>0</td>\n",
       "      <td>0</td>\n",
       "      <td>0</td>\n",
       "      <td>1</td>\n",
       "    </tr>\n",
       "    <tr>\n",
       "      <th>2</th>\n",
       "      <td>2020-02-17</td>\n",
       "      <td>7728829</td>\n",
       "      <td>MLA-10K</td>\n",
       "      <td>27</td>\n",
       "      <td>Hyderabad</td>\n",
       "      <td>TELANGANA</td>\n",
       "      <td>628</td>\n",
       "      <td>4000</td>\n",
       "      <td>8</td>\n",
       "      <td>KB</td>\n",
       "      <td>8-15</td>\n",
       "      <td>Telugu</td>\n",
       "      <td>0</td>\n",
       "      <td>0</td>\n",
       "      <td>0</td>\n",
       "      <td>1</td>\n",
       "    </tr>\n",
       "    <tr>\n",
       "      <th>3</th>\n",
       "      <td>2020-02-17</td>\n",
       "      <td>7962517</td>\n",
       "      <td>MLA-10K</td>\n",
       "      <td>27</td>\n",
       "      <td>Hyderabad</td>\n",
       "      <td>TELANGANA</td>\n",
       "      <td>628</td>\n",
       "      <td>4000</td>\n",
       "      <td>8</td>\n",
       "      <td>KB</td>\n",
       "      <td>8-15</td>\n",
       "      <td>Telugu</td>\n",
       "      <td>0</td>\n",
       "      <td>0</td>\n",
       "      <td>0</td>\n",
       "      <td>1</td>\n",
       "    </tr>\n",
       "    <tr>\n",
       "      <th>4</th>\n",
       "      <td>2020-02-17</td>\n",
       "      <td>8135897</td>\n",
       "      <td>MLA-10K</td>\n",
       "      <td>32</td>\n",
       "      <td>Hyderabad</td>\n",
       "      <td>TELANGANA</td>\n",
       "      <td>628</td>\n",
       "      <td>4000</td>\n",
       "      <td>9</td>\n",
       "      <td>KB</td>\n",
       "      <td>8-15</td>\n",
       "      <td>Telugu</td>\n",
       "      <td>0</td>\n",
       "      <td>0</td>\n",
       "      <td>0</td>\n",
       "      <td>1</td>\n",
       "    </tr>\n",
       "    <tr>\n",
       "      <th>...</th>\n",
       "      <td>...</td>\n",
       "      <td>...</td>\n",
       "      <td>...</td>\n",
       "      <td>...</td>\n",
       "      <td>...</td>\n",
       "      <td>...</td>\n",
       "      <td>...</td>\n",
       "      <td>...</td>\n",
       "      <td>...</td>\n",
       "      <td>...</td>\n",
       "      <td>...</td>\n",
       "      <td>...</td>\n",
       "      <td>...</td>\n",
       "      <td>...</td>\n",
       "      <td>...</td>\n",
       "      <td>...</td>\n",
       "    </tr>\n",
       "    <tr>\n",
       "      <th>2047</th>\n",
       "      <td>2020-02-17</td>\n",
       "      <td>13515814</td>\n",
       "      <td>PK-5K</td>\n",
       "      <td>30</td>\n",
       "      <td>North Goa</td>\n",
       "      <td>GOA</td>\n",
       "      <td>607</td>\n",
       "      <td>4000</td>\n",
       "      <td>20</td>\n",
       "      <td>Kb</td>\n",
       "      <td>16-30</td>\n",
       "      <td>Hindi</td>\n",
       "      <td>1</td>\n",
       "      <td>0</td>\n",
       "      <td>0</td>\n",
       "      <td>0</td>\n",
       "    </tr>\n",
       "    <tr>\n",
       "      <th>2048</th>\n",
       "      <td>2020-02-17</td>\n",
       "      <td>16476882</td>\n",
       "      <td>PK-5K</td>\n",
       "      <td>28</td>\n",
       "      <td>Dimapur</td>\n",
       "      <td>NAGALAND</td>\n",
       "      <td>607</td>\n",
       "      <td>4000</td>\n",
       "      <td>24</td>\n",
       "      <td>Kb</td>\n",
       "      <td>16-30</td>\n",
       "      <td>Hindi</td>\n",
       "      <td>1</td>\n",
       "      <td>0</td>\n",
       "      <td>0</td>\n",
       "      <td>0</td>\n",
       "    </tr>\n",
       "    <tr>\n",
       "      <th>2049</th>\n",
       "      <td>2020-02-17</td>\n",
       "      <td>4065128</td>\n",
       "      <td>PK-5K</td>\n",
       "      <td>25</td>\n",
       "      <td>South Tripura</td>\n",
       "      <td>TRIPURA</td>\n",
       "      <td>675</td>\n",
       "      <td>3200</td>\n",
       "      <td>24</td>\n",
       "      <td>MZ</td>\n",
       "      <td>16-30</td>\n",
       "      <td>Hindi</td>\n",
       "      <td>1</td>\n",
       "      <td>0</td>\n",
       "      <td>0</td>\n",
       "      <td>0</td>\n",
       "    </tr>\n",
       "    <tr>\n",
       "      <th>2050</th>\n",
       "      <td>2020-02-17</td>\n",
       "      <td>6747198</td>\n",
       "      <td>PK-5K</td>\n",
       "      <td>27</td>\n",
       "      <td>West Tripura</td>\n",
       "      <td>TRIPURA</td>\n",
       "      <td>607</td>\n",
       "      <td>4000</td>\n",
       "      <td>8</td>\n",
       "      <td>KB</td>\n",
       "      <td>8-15</td>\n",
       "      <td>Hindi</td>\n",
       "      <td>1</td>\n",
       "      <td>0</td>\n",
       "      <td>0</td>\n",
       "      <td>0</td>\n",
       "    </tr>\n",
       "    <tr>\n",
       "      <th>2051</th>\n",
       "      <td>2020-02-17</td>\n",
       "      <td>6904737</td>\n",
       "      <td>PK-5K</td>\n",
       "      <td>34</td>\n",
       "      <td>West Tripura</td>\n",
       "      <td>TRIPURA</td>\n",
       "      <td>517</td>\n",
       "      <td>4000</td>\n",
       "      <td>11</td>\n",
       "      <td>MZ</td>\n",
       "      <td>8-15</td>\n",
       "      <td>Hindi</td>\n",
       "      <td>1</td>\n",
       "      <td>0</td>\n",
       "      <td>0</td>\n",
       "      <td>0</td>\n",
       "    </tr>\n",
       "  </tbody>\n",
       "</table>\n",
       "<p>2052 rows × 16 columns</p>\n",
       "</div>"
      ],
      "text/plain": [
       "           Date    loanid productName  age           city      state  \\\n",
       "0    2020-02-17   7553357     MLA-10K   33      Hyderabad  TELANGANA   \n",
       "1    2020-02-17   7587644     MLA-10K   33      Hyderabad  TELANGANA   \n",
       "2    2020-02-17   7728829     MLA-10K   27      Hyderabad  TELANGANA   \n",
       "3    2020-02-17   7962517     MLA-10K   27      Hyderabad  TELANGANA   \n",
       "4    2020-02-17   8135897     MLA-10K   32      Hyderabad  TELANGANA   \n",
       "...         ...       ...         ...  ...            ...        ...   \n",
       "2047 2020-02-17  13515814       PK-5K   30      North Goa        GOA   \n",
       "2048 2020-02-17  16476882       PK-5K   28        Dimapur   NAGALAND   \n",
       "2049 2020-02-17   4065128       PK-5K   25  South Tripura    TRIPURA   \n",
       "2050 2020-02-17   6747198       PK-5K   27   West Tripura    TRIPURA   \n",
       "2051 2020-02-17   6904737       PK-5K   34   West Tripura    TRIPURA   \n",
       "\n",
       "      cibil_score  Principal_due  Days_past_due Source bucket Language  \\\n",
       "0             589           4000             11     KB   8-15   Telugu   \n",
       "1             628           4000             12     KB   8-15   Telugu   \n",
       "2             628           4000              8     KB   8-15   Telugu   \n",
       "3             628           4000              8     KB   8-15   Telugu   \n",
       "4             628           4000              9     KB   8-15   Telugu   \n",
       "...           ...            ...            ...    ...    ...      ...   \n",
       "2047          607           4000             20     Kb  16-30    Hindi   \n",
       "2048          607           4000             24     Kb  16-30    Hindi   \n",
       "2049          675           3200             24     MZ  16-30    Hindi   \n",
       "2050          607           4000              8     KB   8-15    Hindi   \n",
       "2051          517           4000             11     MZ   8-15    Hindi   \n",
       "\n",
       "      Language_Hindi  Language_Kannada  Language_Tamil  Language_Telugu  \n",
       "0                  0                 0               0                1  \n",
       "1                  0                 0               0                1  \n",
       "2                  0                 0               0                1  \n",
       "3                  0                 0               0                1  \n",
       "4                  0                 0               0                1  \n",
       "...              ...               ...             ...              ...  \n",
       "2047               1                 0               0                0  \n",
       "2048               1                 0               0                0  \n",
       "2049               1                 0               0                0  \n",
       "2050               1                 0               0                0  \n",
       "2051               1                 0               0                0  \n",
       "\n",
       "[2052 rows x 16 columns]"
      ]
     },
     "execution_count": 16,
     "metadata": {},
     "output_type": "execute_result"
    }
   ],
   "source": [
    "#Transforming dataset to get languages of account in column form. It will be easier to match them with agents this way.\n",
    "\n",
    "# generate binary values using get_dummies\n",
    "dum_df = pd.get_dummies(account[['Language']])\n",
    "# merge with main df account on key values \n",
    "account_2 = account.join(dum_df)\n",
    "account_2"
   ]
  },
  {
   "cell_type": "code",
   "execution_count": 17,
   "metadata": {},
   "outputs": [],
   "source": [
    "#Filtering required columns\n",
    "account_3 = account_2.iloc[:,[1,12,13,14,15]]\n",
    "\n",
    "#Removing prefix from language columns\n",
    "account_3.columns = account_3.columns.str.lstrip('Language_')"
   ]
  },
  {
   "cell_type": "code",
   "execution_count": 18,
   "metadata": {},
   "outputs": [],
   "source": [
    "#Selecting relevant columns from agent table\n",
    "agent_3 = agent.iloc[:,[1,5,6,7,8]]\n",
    "\n",
    "#Changing column names to be same as account_3 table\n",
    "agent_3 = agent_3[['Employee ID', 'Hindi', 'Kannada', 'Tamil', 'Telugu']]"
   ]
  },
  {
   "cell_type": "code",
   "execution_count": 19,
   "metadata": {},
   "outputs": [
    {
     "name": "stdout",
     "output_type": "stream",
     "text": [
      "Index(['Employee ID', 'Hindi', 'Kannada', 'Tamil', 'Telugu'], dtype='object')\n",
      "Index(['loanid', 'Hindi', 'Kannada', 'Tamil', 'Telugu'], dtype='object')\n"
     ]
    }
   ],
   "source": [
    "print(agent_3.columns)\n",
    "print(account_3.columns)"
   ]
  },
  {
   "cell_type": "code",
   "execution_count": 20,
   "metadata": {},
   "outputs": [],
   "source": [
    "#Making a list of loanid and of employee ID as a identifier of account and agent. It will be used for mapping them later. \n",
    "#Customer list\n",
    "cust = list(account_3['loanid'])\n",
    "\n",
    "#Agent list\n",
    "agt = list(agent_3['Employee ID'])"
   ]
  },
  {
   "cell_type": "code",
   "execution_count": 21,
   "metadata": {},
   "outputs": [
    {
     "name": "stdout",
     "output_type": "stream",
     "text": [
      "8.407507181167603\n"
     ]
    }
   ],
   "source": [
    "#Creating an availability matrix which gives potential customers which can be handled by an agent\n",
    "availability = pd.DataFrame(np.ones((len(agt), len(cust))), index=agt, columns=cust)\n",
    "\n",
    "#Populating availability matrix based on language\n",
    "start_time = time.time()\n",
    "for i in range(len(agt)):\n",
    "    for j in range(len(cust)):\n",
    "        if ((account_3.iloc[j,1] + agent_3.iloc[i,1]) == 2 or\n",
    "        (account_3.iloc[j,2] + agent_3.iloc[i,2]) == 2 or\n",
    "        (account_3.iloc[j,3] + agent_3.iloc[i,3]) == 2 or\n",
    "        (account_3.iloc[j,4] + agent_3.iloc[i,4]) == 2):\n",
    "            availability.iloc[i,j] = 1\n",
    "        else:\n",
    "            availability.iloc[i,j] = 0\n",
    "\n",
    "end_time = time.time()\n",
    "print(end_time - start_time)\n",
    "\n",
    "availability = availability.astype(int)"
   ]
  },
  {
   "cell_type": "code",
   "execution_count": 22,
   "metadata": {},
   "outputs": [],
   "source": [
    "#Transposing it to get in required format\n",
    "availability = availability.transpose()"
   ]
  },
  {
   "cell_type": "code",
   "execution_count": 23,
   "metadata": {},
   "outputs": [],
   "source": [
    "# Initialize pyomo concrete model\n",
    "model2 = ConcreteModel()\n",
    "\n",
    "# binary variables representing if a agent is scheduled to a customer\n",
    "model2.works = Var(((customer, agent) for customer in cust for agent in agt),\n",
    "                  within=Binary, initialize=availability.stack().to_dict())"
   ]
  },
  {
   "cell_type": "code",
   "execution_count": 24,
   "metadata": {},
   "outputs": [],
   "source": [
    "# Define an objective function: For each agent, we want to minimize the total number of customers he attends\n",
    "def obj_rule(m):\n",
    "    for agent in agt:\n",
    "        return 2*sum(m.works[customer, agent] for customer in cust)\n",
    "\n",
    "\n",
    "# add objective function to the model. rule (pass function) or expr (pass expression directly)\n",
    "model2.obj = Objective(rule=obj_rule, sense=minimize)"
   ]
  },
  {
   "cell_type": "code",
   "execution_count": 25,
   "metadata": {},
   "outputs": [],
   "source": [
    "#Initializing a list to add constraints to\n",
    "model2.constraints = ConstraintList()"
   ]
  },
  {
   "cell_type": "code",
   "execution_count": 26,
   "metadata": {},
   "outputs": [],
   "source": [
    "#Constraint: one customer goes to only one employee only (not multiple employees per customer)\n",
    "for customer in cust:\n",
    "    model2.constraints.add(1 == sum(model2.works[customer, agent] for agent in agt))"
   ]
  },
  {
   "cell_type": "code",
   "execution_count": 27,
   "metadata": {},
   "outputs": [],
   "source": [
    "#Constraint: no more than 94 customer per agent attended (average comes out to be 93.2)\n",
    "for agent in agt:\n",
    "    model2.constraints.add(\n",
    "        94 >= sum(model2.works[customer, agent] for customer in cust)\n",
    "    )\n",
    "\n",
    "#Constraint: no less than 93 customer per agent attended\n",
    "for agent in agt:\n",
    "    model2.constraints.add(\n",
    "        93 <= sum(model2.works[customer, agent] for customer in cust)\n",
    "    )"
   ]
  },
  {
   "cell_type": "code",
   "execution_count": 28,
   "metadata": {},
   "outputs": [],
   "source": [
    "#Constraint: Language of both customer and agent should be matched.\n",
    "for (customer, agent) in list(itertools.product(cust, agt)):\n",
    "    model2.constraints.add(model2.works[customer, agent] <= availability.loc[customer, agent])"
   ]
  },
  {
   "cell_type": "code",
   "execution_count": 29,
   "metadata": {},
   "outputs": [],
   "source": [
    "#Solving the model using cbc solver on neos server\n",
    "opt = SolverFactory('cbc')  # Select solver\n",
    "solver_manager = SolverManagerFactory('neos')  # Solve in neos server\n",
    "results2 = solver_manager.solve(model2, opt=opt)"
   ]
  },
  {
   "cell_type": "code",
   "execution_count": 30,
   "metadata": {},
   "outputs": [],
   "source": [
    "#Defining function to agent to customer mapping - model output\n",
    "def get_work_table(works):\n",
    "    table = {agent: [] for agent in agt}\n",
    "    for agent in agt:\n",
    "        for customer in cust:\n",
    "            if works[customer, agent].value == 1:\n",
    "                table[agent].append(customer)\n",
    "    return table\n",
    "\n",
    "alloted_cust = get_work_table(model2.works)"
   ]
  },
  {
   "cell_type": "code",
   "execution_count": 31,
   "metadata": {},
   "outputs": [
    {
     "name": "stdout",
     "output_type": "stream",
     "text": [
      "[93, 93, 93, 93, 93, 93, 93, 93, 93, 93, 93, 93, 93, 93, 94, 94, 94, 93, 94, 94, 93, 94]\n"
     ]
    }
   ],
   "source": [
    "#Checking number of customers alloted per agent\n",
    "x= []\n",
    "for i in range (0,22):\n",
    "    x.append((len(pd.DataFrame(alloted_cust.items())[1][i])))\n",
    "    \n",
    "print(x)"
   ]
  },
  {
   "cell_type": "code",
   "execution_count": 32,
   "metadata": {},
   "outputs": [
    {
     "name": "stdout",
     "output_type": "stream",
     "text": [
      "2.7894959449768066\n"
     ]
    }
   ],
   "source": [
    "#Creating empty dataframe for customer to agent mapping\n",
    "agt_allot = pd.DataFrame(columns = ['loanid', 'Employee ID'])\n",
    "\n",
    "start_time = time.time()\n",
    "\n",
    "#Appending values of customer, agent to dataframe if they are mapped according to model result\n",
    "for (customer, agent) in list(itertools.product(cust, agt)):\n",
    "    if model2.works[customer, agent].value == 1:\n",
    "        agt_allot = agt_allot.append(pd.Series([customer, agent], index=agt_allot.columns), ignore_index=True)\n",
    "\n",
    "end_time = time.time()\n",
    "print(end_time - start_time)"
   ]
  },
  {
   "cell_type": "code",
   "execution_count": 33,
   "metadata": {},
   "outputs": [
    {
     "data": {
      "text/html": [
       "<div>\n",
       "<style scoped>\n",
       "    .dataframe tbody tr th:only-of-type {\n",
       "        vertical-align: middle;\n",
       "    }\n",
       "\n",
       "    .dataframe tbody tr th {\n",
       "        vertical-align: top;\n",
       "    }\n",
       "\n",
       "    .dataframe thead th {\n",
       "        text-align: right;\n",
       "    }\n",
       "</style>\n",
       "<table border=\"1\" class=\"dataframe\">\n",
       "  <thead>\n",
       "    <tr style=\"text-align: right;\">\n",
       "      <th></th>\n",
       "      <th>loanid</th>\n",
       "      <th>Employee ID</th>\n",
       "    </tr>\n",
       "  </thead>\n",
       "  <tbody>\n",
       "    <tr>\n",
       "      <th>0</th>\n",
       "      <td>7553357</td>\n",
       "      <td>O11</td>\n",
       "    </tr>\n",
       "    <tr>\n",
       "      <th>1</th>\n",
       "      <td>7587644</td>\n",
       "      <td>M11</td>\n",
       "    </tr>\n",
       "    <tr>\n",
       "      <th>2</th>\n",
       "      <td>7728829</td>\n",
       "      <td>G11</td>\n",
       "    </tr>\n",
       "    <tr>\n",
       "      <th>3</th>\n",
       "      <td>7962517</td>\n",
       "      <td>D11</td>\n",
       "    </tr>\n",
       "    <tr>\n",
       "      <th>4</th>\n",
       "      <td>8135897</td>\n",
       "      <td>L11</td>\n",
       "    </tr>\n",
       "  </tbody>\n",
       "</table>\n",
       "</div>"
      ],
      "text/plain": [
       "    loanid Employee ID\n",
       "0  7553357         O11\n",
       "1  7587644         M11\n",
       "2  7728829         G11\n",
       "3  7962517         D11\n",
       "4  8135897         L11"
      ]
     },
     "execution_count": 33,
     "metadata": {},
     "output_type": "execute_result"
    }
   ],
   "source": [
    "agt_allot.head()"
   ]
  },
  {
   "cell_type": "code",
   "execution_count": 34,
   "metadata": {},
   "outputs": [
    {
     "data": {
      "text/plain": [
       "1"
      ]
     },
     "execution_count": 34,
     "metadata": {},
     "output_type": "execute_result"
    }
   ],
   "source": [
    "#Verifying the results from model:\n",
    "\n",
    "#Adding language of customer and agent to agt_allot:\n",
    "agt_allot_lang_check = agt_allot.merge(account_3, on = 'loanid').merge(agent_3, on = 'Employee ID')\n",
    "\n",
    "#appending values to an empty list as 1 if language of customer is a subset of language of alloted agent, and 10 if it is not\n",
    "y = []\n",
    "for i in range(len(agt_allot_lang_check)):\n",
    "    if agt_allot_lang_check.iloc[i,2] <= agt_allot_lang_check.iloc[i,6]:\n",
    "        y.append(1)\n",
    "    else:\n",
    "        y.append(10)\n",
    "\n",
    "#Getting max of list to see if there is any value 10\n",
    "max(y)"
   ]
  },
  {
   "cell_type": "code",
   "execution_count": 35,
   "metadata": {},
   "outputs": [],
   "source": [
    "pd.DataFrame(alloted_cust.items()).to_csv('agent_to_customer.csv')"
   ]
  },
  {
   "cell_type": "code",
   "execution_count": 36,
   "metadata": {},
   "outputs": [],
   "source": [
    "agt_allot.to_csv('customer_to_agent.csv')"
   ]
  },
  {
   "cell_type": "code",
   "execution_count": 37,
   "metadata": {},
   "outputs": [
    {
     "name": "stdout",
     "output_type": "stream",
     "text": [
      "Notebook execution time = 75.35  seconds\n"
     ]
    }
   ],
   "source": [
    "notebook_end_time = time.time()\n",
    "print('Notebook execution time =', round(notebook_end_time - notebook_start_time, 2), ' seconds')"
   ]
  }
 ],
 "metadata": {
  "kernelspec": {
   "display_name": "Python 3",
   "language": "python",
   "name": "python3"
  },
  "language_info": {
   "codemirror_mode": {
    "name": "ipython",
    "version": 3
   },
   "file_extension": ".py",
   "mimetype": "text/x-python",
   "name": "python",
   "nbconvert_exporter": "python",
   "pygments_lexer": "ipython3",
   "version": "3.7.4"
  }
 },
 "nbformat": 4,
 "nbformat_minor": 2
}
